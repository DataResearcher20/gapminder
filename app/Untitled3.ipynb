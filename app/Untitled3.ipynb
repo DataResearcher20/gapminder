{
 "cells": [
  {
   "cell_type": "code",
   "execution_count": 1,
   "id": "44a4ab69",
   "metadata": {},
   "outputs": [],
   "source": [
    "import pandas as pd\n",
    "\n",
    "# Define chunk size\n",
    "chunksize = 10000\n",
    "\n",
    "# Initialize an empty DataFrame with 'country' and 'year' columns\n",
    "merged_df = pd.DataFrame(columns=['country', 'year'])\n",
    "\n",
    "# Iterate over chunks of df_population_tidy and merge with other DataFrames\n",
    "for chunk in pd.read_csv('population.csv', chunksize=chunksize):\n",
    "    df_population_filled = chunk.fillna(method='ffill')\n",
    "    df_population_tidy = pd.melt(df_population_filled, id_vars='country', var_name='year', value_name='population')\n",
    "    merged_df = pd.merge(merged_df, df_population_tidy, on=['country', 'year'], how='outer')\n",
    "\n",
    "# Merge df_life_expectancy_tidy\n",
    "for chunk in pd.read_csv('life_expectancy.csv', chunksize=chunksize):\n",
    "    df_life_expectancy_filled = chunk.fillna(method='ffill')\n",
    "    df_life_expectancy_tidy = pd.melt(df_life_expectancy_filled, id_vars='country', var_name='year', value_name='life_expectancy_tidy')\n",
    "    merged_df = pd.merge(merged_df, df_life_expectancy_tidy, on=['country', 'year'], how='outer')\n",
    "\n",
    "# Merge df_gni_per_capita_tidy\n",
    "for chunk in pd.read_csv('gni_per_capita.csv', chunksize=chunksize):\n",
    "    df_gni_per_capita_filled = chunk.fillna(method='ffill')\n",
    "    df_gni_per_capita_tidy = pd.melt(df_gni_per_capita_filled, id_vars='country', var_name='year', value_name='gni_per_capita_tidy')\n",
    "    merged_df = pd.merge(merged_df, df_gni_per_capita_tidy, on=['country', 'year'], how='outer')\n",
    "\n",
    "# Save merged_df as CSV\n",
    "merged_df.to_csv('merged_data.csv', index=False)\n"
   ]
  },
  {
   "cell_type": "code",
   "execution_count": null,
   "id": "81301d87",
   "metadata": {},
   "outputs": [],
   "source": [
    "mergws"
   ]
  }
 ],
 "metadata": {
  "kernelspec": {
   "display_name": "Python 3 (ipykernel)",
   "language": "python",
   "name": "python3"
  },
  "language_info": {
   "codemirror_mode": {
    "name": "ipython",
    "version": 3
   },
   "file_extension": ".py",
   "mimetype": "text/x-python",
   "name": "python",
   "nbconvert_exporter": "python",
   "pygments_lexer": "ipython3",
   "version": "3.10.9"
  }
 },
 "nbformat": 4,
 "nbformat_minor": 5
}
